{
  "nbformat": 4,
  "nbformat_minor": 0,
  "metadata": {
    "colab": {
      "name": "Ensemble.ipynb",
      "provenance": [],
      "collapsed_sections": []
    },
    "kernelspec": {
      "name": "python3",
      "display_name": "Python 3"
    },
    "language_info": {
      "name": "python"
    }
  },
  "cells": [
    {
      "cell_type": "code",
      "execution_count": 1,
      "metadata": {
        "colab": {
          "base_uri": "https://localhost:8080/"
        },
        "id": "NSfwhYxbgrgC",
        "outputId": "9861b4f5-85c1-4316-c5c3-8d0f0ea4b2de"
      },
      "outputs": [
        {
          "output_type": "stream",
          "name": "stdout",
          "text": [
            "Mounted at /content/drive\n"
          ]
        }
      ],
      "source": [
        "from google.colab import drive\n",
        "drive.mount('/content/drive')"
      ]
    },
    {
      "cell_type": "code",
      "source": [
        "import os\n",
        "\n",
        "#change path\n",
        "root_dir = \"/content/drive/My Drive/\"\n",
        "base_dir = root_dir + 'python_lesson/CloneCoding/펭귄 몸무게 예측 경진대회'\n",
        "os.chdir(base_dir)\n",
        "\n",
        "#mount google driver\n",
        "#from google.colab import drive\n",
        "#drive.mount('/content/gdrive', force_remount=True)\n",
        "#root_dir = \"/content/gdrive/My Drive/\"\n",
        "\n",
        "!pwd"
      ],
      "metadata": {
        "colab": {
          "base_uri": "https://localhost:8080/"
        },
        "id": "Yrs9MDRMhJze",
        "outputId": "96fdc75a-9354-415b-923d-4eae5d9aad23"
      },
      "execution_count": 2,
      "outputs": [
        {
          "output_type": "stream",
          "name": "stdout",
          "text": [
            "/content/drive/My Drive/python_lesson/CloneCoding/펭귄 몸무게 예측 경진대회\n"
          ]
        }
      ]
    },
    {
      "cell_type": "markdown",
      "source": [
        "# 펭귄 몸무게 예측 경진대회 - 앙상블 기법\n",
        "\n",
        "---"
      ],
      "metadata": {
        "id": "XqsqomVehNI2"
      }
    },
    {
      "cell_type": "code",
      "source": [
        "import pandas as pd\n",
        "import numpy as np\n",
        "import matplotlib.pyplot as plt\n",
        "import seaborn as sns\n",
        "from sklearn.preprocessing import LabelEncoder\n",
        "import warnings\n",
        "warnings.filterwarnings(action='ignore')\n",
        "\n",
        "# csv 형식으로 된 데이터 파일을 읽어옵니다.\n",
        "data = pd.read_csv('data/penguins.csv')\n",
        "\n",
        "# 데이터의 최상단 5 줄을 표시합니다.\n",
        "data.head()"
      ],
      "metadata": {
        "colab": {
          "base_uri": "https://localhost:8080/",
          "height": 206
        },
        "id": "lGvwiS3ChZiP",
        "outputId": "05083984-4072-4ef8-b528-ec4cf94e3dcd"
      },
      "execution_count": 14,
      "outputs": [
        {
          "output_type": "execute_result",
          "data": {
            "text/html": [
              "\n",
              "  <div id=\"df-cf23ee95-0207-422d-890a-ee1cc8f72e8c\">\n",
              "    <div class=\"colab-df-container\">\n",
              "      <div>\n",
              "<style scoped>\n",
              "    .dataframe tbody tr th:only-of-type {\n",
              "        vertical-align: middle;\n",
              "    }\n",
              "\n",
              "    .dataframe tbody tr th {\n",
              "        vertical-align: top;\n",
              "    }\n",
              "\n",
              "    .dataframe thead th {\n",
              "        text-align: right;\n",
              "    }\n",
              "</style>\n",
              "<table border=\"1\" class=\"dataframe\">\n",
              "  <thead>\n",
              "    <tr style=\"text-align: right;\">\n",
              "      <th></th>\n",
              "      <th>species</th>\n",
              "      <th>island</th>\n",
              "      <th>bill_length_mm</th>\n",
              "      <th>bill_depth_mm</th>\n",
              "      <th>flipper_length_mm</th>\n",
              "      <th>body_mass_g</th>\n",
              "      <th>sex</th>\n",
              "    </tr>\n",
              "  </thead>\n",
              "  <tbody>\n",
              "    <tr>\n",
              "      <th>0</th>\n",
              "      <td>Adelie</td>\n",
              "      <td>Torgersen</td>\n",
              "      <td>39.1</td>\n",
              "      <td>18.7</td>\n",
              "      <td>181</td>\n",
              "      <td>3750</td>\n",
              "      <td>Male</td>\n",
              "    </tr>\n",
              "    <tr>\n",
              "      <th>1</th>\n",
              "      <td>Adelie</td>\n",
              "      <td>Torgersen</td>\n",
              "      <td>39.5</td>\n",
              "      <td>17.4</td>\n",
              "      <td>186</td>\n",
              "      <td>3800</td>\n",
              "      <td>Female</td>\n",
              "    </tr>\n",
              "    <tr>\n",
              "      <th>2</th>\n",
              "      <td>Adelie</td>\n",
              "      <td>Torgersen</td>\n",
              "      <td>40.3</td>\n",
              "      <td>18.0</td>\n",
              "      <td>195</td>\n",
              "      <td>3250</td>\n",
              "      <td>Female</td>\n",
              "    </tr>\n",
              "    <tr>\n",
              "      <th>3</th>\n",
              "      <td>Adelie</td>\n",
              "      <td>Torgersen</td>\n",
              "      <td>36.7</td>\n",
              "      <td>19.3</td>\n",
              "      <td>193</td>\n",
              "      <td>3450</td>\n",
              "      <td>Female</td>\n",
              "    </tr>\n",
              "    <tr>\n",
              "      <th>4</th>\n",
              "      <td>Adelie</td>\n",
              "      <td>Torgersen</td>\n",
              "      <td>39.3</td>\n",
              "      <td>20.6</td>\n",
              "      <td>190</td>\n",
              "      <td>3650</td>\n",
              "      <td>Male</td>\n",
              "    </tr>\n",
              "  </tbody>\n",
              "</table>\n",
              "</div>\n",
              "      <button class=\"colab-df-convert\" onclick=\"convertToInteractive('df-cf23ee95-0207-422d-890a-ee1cc8f72e8c')\"\n",
              "              title=\"Convert this dataframe to an interactive table.\"\n",
              "              style=\"display:none;\">\n",
              "        \n",
              "  <svg xmlns=\"http://www.w3.org/2000/svg\" height=\"24px\"viewBox=\"0 0 24 24\"\n",
              "       width=\"24px\">\n",
              "    <path d=\"M0 0h24v24H0V0z\" fill=\"none\"/>\n",
              "    <path d=\"M18.56 5.44l.94 2.06.94-2.06 2.06-.94-2.06-.94-.94-2.06-.94 2.06-2.06.94zm-11 1L8.5 8.5l.94-2.06 2.06-.94-2.06-.94L8.5 2.5l-.94 2.06-2.06.94zm10 10l.94 2.06.94-2.06 2.06-.94-2.06-.94-.94-2.06-.94 2.06-2.06.94z\"/><path d=\"M17.41 7.96l-1.37-1.37c-.4-.4-.92-.59-1.43-.59-.52 0-1.04.2-1.43.59L10.3 9.45l-7.72 7.72c-.78.78-.78 2.05 0 2.83L4 21.41c.39.39.9.59 1.41.59.51 0 1.02-.2 1.41-.59l7.78-7.78 2.81-2.81c.8-.78.8-2.07 0-2.86zM5.41 20L4 18.59l7.72-7.72 1.47 1.35L5.41 20z\"/>\n",
              "  </svg>\n",
              "      </button>\n",
              "      \n",
              "  <style>\n",
              "    .colab-df-container {\n",
              "      display:flex;\n",
              "      flex-wrap:wrap;\n",
              "      gap: 12px;\n",
              "    }\n",
              "\n",
              "    .colab-df-convert {\n",
              "      background-color: #E8F0FE;\n",
              "      border: none;\n",
              "      border-radius: 50%;\n",
              "      cursor: pointer;\n",
              "      display: none;\n",
              "      fill: #1967D2;\n",
              "      height: 32px;\n",
              "      padding: 0 0 0 0;\n",
              "      width: 32px;\n",
              "    }\n",
              "\n",
              "    .colab-df-convert:hover {\n",
              "      background-color: #E2EBFA;\n",
              "      box-shadow: 0px 1px 2px rgba(60, 64, 67, 0.3), 0px 1px 3px 1px rgba(60, 64, 67, 0.15);\n",
              "      fill: #174EA6;\n",
              "    }\n",
              "\n",
              "    [theme=dark] .colab-df-convert {\n",
              "      background-color: #3B4455;\n",
              "      fill: #D2E3FC;\n",
              "    }\n",
              "\n",
              "    [theme=dark] .colab-df-convert:hover {\n",
              "      background-color: #434B5C;\n",
              "      box-shadow: 0px 1px 3px 1px rgba(0, 0, 0, 0.15);\n",
              "      filter: drop-shadow(0px 1px 2px rgba(0, 0, 0, 0.3));\n",
              "      fill: #FFFFFF;\n",
              "    }\n",
              "  </style>\n",
              "\n",
              "      <script>\n",
              "        const buttonEl =\n",
              "          document.querySelector('#df-cf23ee95-0207-422d-890a-ee1cc8f72e8c button.colab-df-convert');\n",
              "        buttonEl.style.display =\n",
              "          google.colab.kernel.accessAllowed ? 'block' : 'none';\n",
              "\n",
              "        async function convertToInteractive(key) {\n",
              "          const element = document.querySelector('#df-cf23ee95-0207-422d-890a-ee1cc8f72e8c');\n",
              "          const dataTable =\n",
              "            await google.colab.kernel.invokeFunction('convertToInteractive',\n",
              "                                                     [key], {});\n",
              "          if (!dataTable) return;\n",
              "\n",
              "          const docLinkHtml = 'Like what you see? Visit the ' +\n",
              "            '<a target=\"_blank\" href=https://colab.research.google.com/notebooks/data_table.ipynb>data table notebook</a>'\n",
              "            + ' to learn more about interactive tables.';\n",
              "          element.innerHTML = '';\n",
              "          dataTable['output_type'] = 'display_data';\n",
              "          await google.colab.output.renderOutput(dataTable, element);\n",
              "          const docLink = document.createElement('div');\n",
              "          docLink.innerHTML = docLinkHtml;\n",
              "          element.appendChild(docLink);\n",
              "        }\n",
              "      </script>\n",
              "    </div>\n",
              "  </div>\n",
              "  "
            ],
            "text/plain": [
              "  species     island  bill_length_mm  ...  flipper_length_mm  body_mass_g     sex\n",
              "0  Adelie  Torgersen            39.1  ...                181         3750    Male\n",
              "1  Adelie  Torgersen            39.5  ...                186         3800  Female\n",
              "2  Adelie  Torgersen            40.3  ...                195         3250  Female\n",
              "3  Adelie  Torgersen            36.7  ...                193         3450  Female\n",
              "4  Adelie  Torgersen            39.3  ...                190         3650    Male\n",
              "\n",
              "[5 rows x 7 columns]"
            ]
          },
          "metadata": {},
          "execution_count": 14
        }
      ]
    },
    {
      "cell_type": "markdown",
      "source": [
        "### 데이터 분할"
      ],
      "metadata": {
        "id": "w28HlkWhho-n"
      }
    },
    {
      "cell_type": "code",
      "source": [
        "# train/test로 분할\n",
        "\n",
        "from sklearn.model_selection import train_test_split\n",
        "\n",
        "train, test = train_test_split(data, test_size=0.2, shuffle=True)\n",
        "\n",
        "print(train.shape)\n",
        "print(test.shape)"
      ],
      "metadata": {
        "colab": {
          "base_uri": "https://localhost:8080/"
        },
        "id": "wG2_QdN9hoQ1",
        "outputId": "312573a9-99c9-47d6-c588-bda7ffa88c8e"
      },
      "execution_count": 4,
      "outputs": [
        {
          "output_type": "stream",
          "name": "stdout",
          "text": [
            "(266, 7)\n",
            "(67, 7)\n"
          ]
        }
      ]
    },
    {
      "cell_type": "markdown",
      "source": [
        "### 결측치 조회"
      ],
      "metadata": {
        "id": "U-NxahaGiC0o"
      }
    },
    {
      "cell_type": "code",
      "source": [
        "print(f\"train 결측치 조회\\n{train.isna().sum()}\")\n",
        "print('\\n')\n",
        "print(f\"test 결측치 조회\\n{test.isna().sum()}\")"
      ],
      "metadata": {
        "colab": {
          "base_uri": "https://localhost:8080/"
        },
        "id": "yXAXHZvxhqHt",
        "outputId": "0cacdca4-18b8-4b08-ea17-2d1b19f27972"
      },
      "execution_count": 5,
      "outputs": [
        {
          "output_type": "stream",
          "name": "stdout",
          "text": [
            "train 결측치 조회\n",
            "species              0\n",
            "island               0\n",
            "bill_length_mm       0\n",
            "bill_depth_mm        0\n",
            "flipper_length_mm    0\n",
            "body_mass_g          0\n",
            "sex                  0\n",
            "dtype: int64\n",
            "\n",
            "\n",
            "test 결측치 조회\n",
            "species              0\n",
            "island               0\n",
            "bill_length_mm       0\n",
            "bill_depth_mm        0\n",
            "flipper_length_mm    0\n",
            "body_mass_g          0\n",
            "sex                  0\n",
            "dtype: int64\n"
          ]
        }
      ]
    },
    {
      "cell_type": "markdown",
      "source": [
        "### Sex에 대하여 보간법 진행"
      ],
      "metadata": {
        "id": "8lrf5CfDiSbF"
      }
    },
    {
      "cell_type": "markdown",
      "source": [
        "보간법은 쉽게 말해 'Sex'를 예측하는 모델을 만들고 그 예측 값을 넣어주는 것을 의미합니다.<br>\n",
        "현재 데이터엔 결측치가 없지만, 만약 평가 기준 데이터와 행 개수가 달라져서 평가를 진행할 수 없을 경우, 결측치에 보간법을 적용하여 나온 예측값을 대입한다."
      ],
      "metadata": {
        "id": "yGfsZB-YiVFL"
      }
    },
    {
      "cell_type": "code",
      "source": [
        "X_train_Sex = train.select_dtypes(include=['int', 'float'])\n",
        "X_train_Sex = X_train_Sex.drop('body_mass_g', axis=1)\n",
        "Y_train_Sex = train['sex']\n",
        "\n",
        "from sklearn.model_selection import train_test_split\n",
        "\n",
        "sex_x_train, sex_x_test, sex_y_train, sex_y_test = train_test_split(X_train_Sex, Y_train_Sex)\n",
        "\n",
        "from sklearn.ensemble import RandomForestClassifier\n",
        "model_sex = RandomForestClassifier().fit(sex_x_train, sex_y_train)\n",
        "model_sex.score(sex_x_test, sex_y_test)"
      ],
      "metadata": {
        "id": "-_xtmKqfiMae",
        "colab": {
          "base_uri": "https://localhost:8080/"
        },
        "outputId": "0e65fafd-5408-469b-d669-7e53bcd9cffd"
      },
      "execution_count": 6,
      "outputs": [
        {
          "output_type": "execute_result",
          "data": {
            "text/plain": [
              "0.8507462686567164"
            ]
          },
          "metadata": {},
          "execution_count": 6
        }
      ]
    },
    {
      "cell_type": "markdown",
      "source": [
        "RandomForestClassifier 모델을 통해 성별을 예측하는 모델을 만들었습니다. <br>\n",
        "\n",
        "그 후, train/test 셋 결측치를 대체해 줍니다."
      ],
      "metadata": {
        "id": "B5jCrFBefjHt"
      }
    },
    {
      "cell_type": "code",
      "source": [
        "# train.loc[train['sex'].isna(), 'sex'] = model_sex.predict(train[train['sex'].isna()].select_dtypes(include=['int', 'float']).drop('body_mass_g', axis=1))\n",
        "# test.loc[test['sex'].isna(), 'sex'] = model_sex.predict(test[test['sex'].isna()].select_dtypes(include=['int', 'float']).drop('body_mass_g', axis=1))"
      ],
      "metadata": {
        "id": "mUAv3yggfezF"
      },
      "execution_count": 7,
      "outputs": []
    },
    {
      "cell_type": "markdown",
      "source": [
        "#### 성별 숫자화 (MALE: 0, FEMALE: 1)"
      ],
      "metadata": {
        "id": "zcidaXfIg2Ok"
      }
    },
    {
      "cell_type": "code",
      "source": [
        "train.loc[train['sex'] == 'MALE', 'sex'] = 0\n",
        "train.loc[train['sex'] == 'FEMALE', 'sex'] = 1"
      ],
      "metadata": {
        "id": "LkpUqZQeglNb"
      },
      "execution_count": 8,
      "outputs": []
    },
    {
      "cell_type": "markdown",
      "source": [
        "pd.get_dummies 함수는 정형 데이터에 대해 자동으로 One-Hot 인코딩을 진행해주는 똑똑한 함수입니다."
      ],
      "metadata": {
        "id": "bEpIDzoVhNWx"
      }
    },
    {
      "cell_type": "code",
      "source": [
        "train = pd.get_dummies(train)\n",
        "test = pd.get_dummies(test)"
      ],
      "metadata": {
        "id": "icQ5F3u1hKkc"
      },
      "execution_count": 9,
      "outputs": []
    },
    {
      "cell_type": "code",
      "source": [
        "X = train.drop('body_mass_g', axis = 1)\n",
        "Y = train['body_mass_g']\n",
        "Y"
      ],
      "metadata": {
        "colab": {
          "base_uri": "https://localhost:8080/"
        },
        "id": "xPNt04B5heXm",
        "outputId": "3f195ffb-0297-4a93-8680-cb6221611484"
      },
      "execution_count": 12,
      "outputs": [
        {
          "output_type": "execute_result",
          "data": {
            "text/plain": [
              "148    4450\n",
              "19     3800\n",
              "95     4725\n",
              "268    3525\n",
              "128    3425\n",
              "       ... \n",
              "141    3475\n",
              "277    3700\n",
              "270    3950\n",
              "299    3600\n",
              "165    5350\n",
              "Name: body_mass_g, Length: 266, dtype: int64"
            ]
          },
          "metadata": {},
          "execution_count": 12
        }
      ]
    },
    {
      "cell_type": "code",
      "source": [
        "plt.figure(figsize=(15, 15))\n",
        "\n",
        "for idx, col in enumerate(list(train)):\n",
        "    plt.subplot(4, 4, idx+1)\n",
        "    sns.boxplot(train[col])"
      ],
      "metadata": {
        "colab": {
          "base_uri": "https://localhost:8080/",
          "height": 665
        },
        "id": "vD5V-xwJhpnv",
        "outputId": "44654564-659f-48f3-e7f5-6609eb6f7a27"
      },
      "execution_count": 15,
      "outputs": [
        {
          "output_type": "display_data",
          "data": {
            "image/png": "[encoded data removed]",
            "text/plain": [
              "<Figure size 1080x1080 with 12 Axes>"
            ]
          },
          "metadata": {
            "needs_background": "light"
          }
        }
      ]
    },
    {
      "cell_type": "code",
      "source": [
        "X"
      ],
      "metadata": {
        "colab": {
          "base_uri": "https://localhost:8080/",
          "height": 488
        },
        "id": "_WZzGGZ6h0PU",
        "outputId": "f669382f-e19e-4694-fd74-b405e0178c5c"
      },
      "execution_count": 16,
      "outputs": [
        {
          "output_type": "execute_result",
          "data": {
            "text/html": [
              "\n",
              "  <div id=\"df-d496b819-81c9-461f-8dc1-dc6c5419fab6\">\n",
              "    <div class=\"colab-df-container\">\n",
              "      <div>\n",
              "<style scoped>\n",
              "    .dataframe tbody tr th:only-of-type {\n",
              "        vertical-align: middle;\n",
              "    }\n",
              "\n",
              "    .dataframe tbody tr th {\n",
              "        vertical-align: top;\n",
              "    }\n",
              "\n",
              "    .dataframe thead th {\n",
              "        text-align: right;\n",
              "    }\n",
              "</style>\n",
              "<table border=\"1\" class=\"dataframe\">\n",
              "  <thead>\n",
              "    <tr style=\"text-align: right;\">\n",
              "      <th></th>\n",
              "      <th>bill_length_mm</th>\n",
              "      <th>bill_depth_mm</th>\n",
              "      <th>flipper_length_mm</th>\n",
              "      <th>species_Adelie</th>\n",
              "      <th>species_Chinstrap</th>\n",
              "      <th>species_Gentoo</th>\n",
              "      <th>island_Biscoe</th>\n",
              "      <th>island_Dream</th>\n",
              "      <th>island_Torgersen</th>\n",
              "      <th>sex_Female</th>\n",
              "      <th>sex_Male</th>\n",
              "    </tr>\n",
              "  </thead>\n",
              "  <tbody>\n",
              "    <tr>\n",
              "      <th>148</th>\n",
              "      <td>48.7</td>\n",
              "      <td>14.1</td>\n",
              "      <td>210</td>\n",
              "      <td>0</td>\n",
              "      <td>0</td>\n",
              "      <td>1</td>\n",
              "      <td>1</td>\n",
              "      <td>0</td>\n",
              "      <td>0</td>\n",
              "      <td>1</td>\n",
              "      <td>0</td>\n",
              "    </tr>\n",
              "    <tr>\n",
              "      <th>19</th>\n",
              "      <td>38.8</td>\n",
              "      <td>17.2</td>\n",
              "      <td>180</td>\n",
              "      <td>1</td>\n",
              "      <td>0</td>\n",
              "      <td>0</td>\n",
              "      <td>1</td>\n",
              "      <td>0</td>\n",
              "      <td>0</td>\n",
              "      <td>0</td>\n",
              "      <td>1</td>\n",
              "    </tr>\n",
              "    <tr>\n",
              "      <th>95</th>\n",
              "      <td>41.0</td>\n",
              "      <td>20.0</td>\n",
              "      <td>203</td>\n",
              "      <td>1</td>\n",
              "      <td>0</td>\n",
              "      <td>0</td>\n",
              "      <td>1</td>\n",
              "      <td>0</td>\n",
              "      <td>0</td>\n",
              "      <td>0</td>\n",
              "      <td>1</td>\n",
              "    </tr>\n",
              "    <tr>\n",
              "      <th>268</th>\n",
              "      <td>45.4</td>\n",
              "      <td>18.7</td>\n",
              "      <td>188</td>\n",
              "      <td>0</td>\n",
              "      <td>1</td>\n",
              "      <td>0</td>\n",
              "      <td>0</td>\n",
              "      <td>1</td>\n",
              "      <td>0</td>\n",
              "      <td>1</td>\n",
              "      <td>0</td>\n",
              "    </tr>\n",
              "    <tr>\n",
              "      <th>128</th>\n",
              "      <td>38.1</td>\n",
              "      <td>17.6</td>\n",
              "      <td>187</td>\n",
              "      <td>1</td>\n",
              "      <td>0</td>\n",
              "      <td>0</td>\n",
              "      <td>0</td>\n",
              "      <td>1</td>\n",
              "      <td>0</td>\n",
              "      <td>1</td>\n",
              "      <td>0</td>\n",
              "    </tr>\n",
              "    <tr>\n",
              "      <th>...</th>\n",
              "      <td>...</td>\n",
              "      <td>...</td>\n",
              "      <td>...</td>\n",
              "      <td>...</td>\n",
              "      <td>...</td>\n",
              "      <td>...</td>\n",
              "      <td>...</td>\n",
              "      <td>...</td>\n",
              "      <td>...</td>\n",
              "      <td>...</td>\n",
              "      <td>...</td>\n",
              "    </tr>\n",
              "    <tr>\n",
              "      <th>141</th>\n",
              "      <td>36.6</td>\n",
              "      <td>18.4</td>\n",
              "      <td>184</td>\n",
              "      <td>1</td>\n",
              "      <td>0</td>\n",
              "      <td>0</td>\n",
              "      <td>0</td>\n",
              "      <td>1</td>\n",
              "      <td>0</td>\n",
              "      <td>1</td>\n",
              "      <td>0</td>\n",
              "    </tr>\n",
              "    <tr>\n",
              "      <th>277</th>\n",
              "      <td>47.0</td>\n",
              "      <td>17.3</td>\n",
              "      <td>185</td>\n",
              "      <td>0</td>\n",
              "      <td>1</td>\n",
              "      <td>0</td>\n",
              "      <td>0</td>\n",
              "      <td>1</td>\n",
              "      <td>0</td>\n",
              "      <td>1</td>\n",
              "      <td>0</td>\n",
              "    </tr>\n",
              "    <tr>\n",
              "      <th>270</th>\n",
              "      <td>45.2</td>\n",
              "      <td>17.8</td>\n",
              "      <td>198</td>\n",
              "      <td>0</td>\n",
              "      <td>1</td>\n",
              "      <td>0</td>\n",
              "      <td>0</td>\n",
              "      <td>1</td>\n",
              "      <td>0</td>\n",
              "      <td>1</td>\n",
              "      <td>0</td>\n",
              "    </tr>\n",
              "    <tr>\n",
              "      <th>299</th>\n",
              "      <td>49.7</td>\n",
              "      <td>18.6</td>\n",
              "      <td>195</td>\n",
              "      <td>0</td>\n",
              "      <td>1</td>\n",
              "      <td>0</td>\n",
              "      <td>0</td>\n",
              "      <td>1</td>\n",
              "      <td>0</td>\n",
              "      <td>0</td>\n",
              "      <td>1</td>\n",
              "    </tr>\n",
              "    <tr>\n",
              "      <th>165</th>\n",
              "      <td>48.7</td>\n",
              "      <td>15.1</td>\n",
              "      <td>222</td>\n",
              "      <td>0</td>\n",
              "      <td>0</td>\n",
              "      <td>1</td>\n",
              "      <td>1</td>\n",
              "      <td>0</td>\n",
              "      <td>0</td>\n",
              "      <td>0</td>\n",
              "      <td>1</td>\n",
              "    </tr>\n",
              "  </tbody>\n",
              "</table>\n",
              "<p>266 rows × 11 columns</p>\n",
              "</div>\n",
              "      <button class=\"colab-df-convert\" onclick=\"convertToInteractive('df-d496b819-81c9-461f-8dc1-dc6c5419fab6')\"\n",
              "              title=\"Convert this dataframe to an interactive table.\"\n",
              "              style=\"display:none;\">\n",
              "        \n",
              "  <svg xmlns=\"http://www.w3.org/2000/svg\" height=\"24px\"viewBox=\"0 0 24 24\"\n",
              "       width=\"24px\">\n",
              "    <path d=\"M0 0h24v24H0V0z\" fill=\"none\"/>\n",
              "    <path d=\"M18.56 5.44l.94 2.06.94-2.06 2.06-.94-2.06-.94-.94-2.06-.94 2.06-2.06.94zm-11 1L8.5 8.5l.94-2.06 2.06-.94-2.06-.94L8.5 2.5l-.94 2.06-2.06.94zm10 10l.94 2.06.94-2.06 2.06-.94-2.06-.94-.94-2.06-.94 2.06-2.06.94z\"/><path d=\"M17.41 7.96l-1.37-1.37c-.4-.4-.92-.59-1.43-.59-.52 0-1.04.2-1.43.59L10.3 9.45l-7.72 7.72c-.78.78-.78 2.05 0 2.83L4 21.41c.39.39.9.59 1.41.59.51 0 1.02-.2 1.41-.59l7.78-7.78 2.81-2.81c.8-.78.8-2.07 0-2.86zM5.41 20L4 18.59l7.72-7.72 1.47 1.35L5.41 20z\"/>\n",
              "  </svg>\n",
              "      </button>\n",
              "      \n",
              "  <style>\n",
              "    .colab-df-container {\n",
              "      display:flex;\n",
              "      flex-wrap:wrap;\n",
              "      gap: 12px;\n",
              "    }\n",
              "\n",
              "    .colab-df-convert {\n",
              "      background-color: #E8F0FE;\n",
              "      border: none;\n",
              "      border-radius: 50%;\n",
              "      cursor: pointer;\n",
              "      display: none;\n",
              "      fill: #1967D2;\n",
              "      height: 32px;\n",
              "      padding: 0 0 0 0;\n",
              "      width: 32px;\n",
              "    }\n",
              "\n",
              "    .colab-df-convert:hover {\n",
              "      background-color: #E2EBFA;\n",
              "      box-shadow: 0px 1px 2px rgba(60, 64, 67, 0.3), 0px 1px 3px 1px rgba(60, 64, 67, 0.15);\n",
              "      fill: #174EA6;\n",
              "    }\n",
              "\n",
              "    [theme=dark] .colab-df-convert {\n",
              "      background-color: #3B4455;\n",
              "      fill: #D2E3FC;\n",
              "    }\n",
              "\n",
              "    [theme=dark] .colab-df-convert:hover {\n",
              "      background-color: #434B5C;\n",
              "      box-shadow: 0px 1px 3px 1px rgba(0, 0, 0, 0.15);\n",
              "      filter: drop-shadow(0px 1px 2px rgba(0, 0, 0, 0.3));\n",
              "      fill: #FFFFFF;\n",
              "    }\n",
              "  </style>\n",
              "\n",
              "      <script>\n",
              "        const buttonEl =\n",
              "          document.querySelector('#df-d496b819-81c9-461f-8dc1-dc6c5419fab6 button.colab-df-convert');\n",
              "        buttonEl.style.display =\n",
              "          google.colab.kernel.accessAllowed ? 'block' : 'none';\n",
              "\n",
              "        async function convertToInteractive(key) {\n",
              "          const element = document.querySelector('#df-d496b819-81c9-461f-8dc1-dc6c5419fab6');\n",
              "          const dataTable =\n",
              "            await google.colab.kernel.invokeFunction('convertToInteractive',\n",
              "                                                     [key], {});\n",
              "          if (!dataTable) return;\n",
              "\n",
              "          const docLinkHtml = 'Like what you see? Visit the ' +\n",
              "            '<a target=\"_blank\" href=https://colab.research.google.com/notebooks/data_table.ipynb>data table notebook</a>'\n",
              "            + ' to learn more about interactive tables.';\n",
              "          element.innerHTML = '';\n",
              "          dataTable['output_type'] = 'display_data';\n",
              "          await google.colab.output.renderOutput(dataTable, element);\n",
              "          const docLink = document.createElement('div');\n",
              "          docLink.innerHTML = docLinkHtml;\n",
              "          element.appendChild(docLink);\n",
              "        }\n",
              "      </script>\n",
              "    </div>\n",
              "  </div>\n",
              "  "
            ],
            "text/plain": [
              "     bill_length_mm  bill_depth_mm  ...  sex_Female  sex_Male\n",
              "148            48.7           14.1  ...           1         0\n",
              "19             38.8           17.2  ...           0         1\n",
              "95             41.0           20.0  ...           0         1\n",
              "268            45.4           18.7  ...           1         0\n",
              "128            38.1           17.6  ...           1         0\n",
              "..              ...            ...  ...         ...       ...\n",
              "141            36.6           18.4  ...           1         0\n",
              "277            47.0           17.3  ...           1         0\n",
              "270            45.2           17.8  ...           1         0\n",
              "299            49.7           18.6  ...           0         1\n",
              "165            48.7           15.1  ...           0         1\n",
              "\n",
              "[266 rows x 11 columns]"
            ]
          },
          "metadata": {},
          "execution_count": 16
        }
      ]
    },
    {
      "cell_type": "code",
      "source": [
        "from sklearn.model_selection import train_test_split\n",
        "\n",
        "x_train, x_test, y_train, y_test = train_test_split(X, Y, test_size=0.1)"
      ],
      "metadata": {
        "id": "UakNVG6LiE9e"
      },
      "execution_count": 17,
      "outputs": []
    },
    {
      "cell_type": "markdown",
      "source": [
        "### 앙상블"
      ],
      "metadata": {
        "id": "glUqceOgirJP"
      }
    },
    {
      "cell_type": "code",
      "source": [
        "# 대회 규칙의 평가 산식 함수를 그대로 사용합니다.\n",
        "import numpy as np\n",
        "\n",
        "def RMSE(true, pred):\n",
        "    score = np.sqrt(np.mean(np.square(true-pred)))\n",
        "    return score"
      ],
      "metadata": {
        "id": "7Jazf6vrqnj5"
      },
      "execution_count": 36,
      "outputs": []
    },
    {
      "cell_type": "code",
      "source": [
        "from sklearn.neighbors import KNeighborsRegressor\n",
        "from sklearn.linear_model import LinearRegression\n",
        "from sklearn.linear_model import Ridge\n",
        "from sklearn.linear_model import Lasso\n",
        "from sklearn.tree import DecisionTreeRegressor\n",
        "from sklearn.ensemble import RandomForestRegressor\n",
        "from sklearn.ensemble import GradientBoostingRegressor\n",
        "from xgboost import XGBRegressor\n",
        "from lightgbm import LGBMRegressor"
      ],
      "metadata": {
        "id": "t1KRqH00isTd"
      },
      "execution_count": 18,
      "outputs": []
    },
    {
      "cell_type": "code",
      "source": [
        "score_List=[]\n",
        "\n",
        "model = KNeighborsRegressor(n_neighbors=5).fit(x_train, y_train)\n",
        "score_List.append(f'KNeighborsRegressor: train_score: {model.score(x_train, y_train)}, val_score: {model.score(x_test, y_test)}')\n",
        "\n",
        "model = LinearRegression().fit(x_train, y_train)\n",
        "score_List.append(f'LinearRegression: train_score: {model.score(x_train, y_train)}, val_score: {model.score(x_test, y_test)}')\n",
        "\n",
        "model = Ridge().fit(x_train, y_train)\n",
        "score_List.append(f'Ridge: train_score: {model.score(x_train, y_train)}, val_score: {model.score(x_test, y_test)}')\n",
        "\n",
        "model = Lasso().fit(x_train, y_train)\n",
        "score_List.append(f'Lasso: train_score: {model.score(x_train, y_train)}, val_score: {model.score(x_test, y_test)}')\n",
        "\n",
        "model = DecisionTreeRegressor().fit(x_train, y_train)\n",
        "score_List.append(f'DecisionTreeRegressor: train_score: {model.score(x_train, y_train)}, val_score: {model.score(x_test, y_test)}')\n",
        "\n",
        "model = RandomForestRegressor().fit(x_train, y_train)\n",
        "score_List.append(f'RandomForestRegressor: train_score: {model.score(x_train, y_train)}, val_score: {model.score(x_test, y_test)}')\n",
        "\n",
        "model = GradientBoostingRegressor().fit(x_train, y_train)\n",
        "score_List.append(f'GradientBoostingRegressor: train_score: {model.score(x_train, y_train)}, val_score: {model.score(x_test, y_test)}')\n",
        "\n",
        "model = XGBRegressor().fit(x_train, y_train)\n",
        "score_List.append(f'XGBRegressor: train_score: {model.score(x_train, y_train)}, val_score: {model.score(x_test, y_test)}')\n",
        "\n",
        "model = LGBMRegressor().fit(x_train, y_train)\n",
        "score_List.append(f'LGBMRegressor: train_score: {model.score(x_train, y_train)}, val_score: {model.score(x_test, y_test)}')"
      ],
      "metadata": {
        "colab": {
          "base_uri": "https://localhost:8080/"
        },
        "id": "Moasov-rittQ",
        "outputId": "d525cadf-db8a-419d-b149-d9230df2f5bd"
      },
      "execution_count": 34,
      "outputs": [
        {
          "output_type": "stream",
          "name": "stdout",
          "text": [
            "[15:45:12] WARNING: /workspace/src/objective/regression_obj.cu:152: reg:linear is now deprecated in favor of reg:squarederror.\n"
          ]
        }
      ]
    },
    {
      "cell_type": "code",
      "source": [
        "[print(i) for i in score_List]"
      ],
      "metadata": {
        "colab": {
          "base_uri": "https://localhost:8080/"
        },
        "id": "tB0PXSVyjWY-",
        "outputId": "96c81cd9-a42e-4bd7-8f33-652776b03e60"
      },
      "execution_count": 20,
      "outputs": [
        {
          "output_type": "stream",
          "name": "stdout",
          "text": [
            "KNeighborsRegressor: train_score: 0.8803363962279462, val_score: 0.7933886373166549\n",
            "LinearRegression: train_score: 0.881085436442864, val_score: 0.9026465459532702\n",
            "Ridge: train_score: 0.8804550085527272, val_score: 0.8991719927166361\n",
            "Lasso: train_score: 0.8809822355800737, val_score: 0.9008815770538694\n",
            "DecisionTreeRegressor: train_score: 1.0, val_score: 0.7855436067988845\n",
            "RandomForestRegressor: train_score: 0.9805153837719698, val_score: 0.859745057585513\n",
            "GradientBoostingRegressor: train_score: 0.9620818179921043, val_score: 0.8652209147331723\n",
            "XGBRegressor: train_score: 0.9471018837041969, val_score: 0.8574249030328505\n",
            "LGBMRegressor: train_score: 0.9416604203040451, val_score: 0.8590952584806555\n"
          ]
        },
        {
          "output_type": "execute_result",
          "data": {
            "text/plain": [
              "[None, None, None, None, None, None, None, None, None]"
            ]
          },
          "metadata": {},
          "execution_count": 20
        }
      ]
    },
    {
      "cell_type": "markdown",
      "source": [
        "val_score를 통해 앙상블 모델을 선별한다.\n",
        "\n",
        "따라서 LinearRegreesion과 Ridge와 Lasso와 RandomForestRegressor, XBGRegressor, LGMBRegressor 모델을 선택합니다."
      ],
      "metadata": {
        "id": "HRbIdY7kjlko"
      }
    },
    {
      "cell_type": "code",
      "source": [
        "train_pred_LR = model_LR.predict(x_test)\n",
        "train_pred_RID = model_RID.predict(x_test)\n",
        "train_pred_LA = model_LA.predict(x_test)\n",
        "train_pred_RF = model_RF.predict(x_test)\n",
        "train_pred_LGBM = model_LGBM.predict(x_test)\n",
        "train_pred_XGB = model_XGB.predict(x_test)"
      ],
      "metadata": {
        "id": "qofabtR-p5EA"
      },
      "execution_count": 35,
      "outputs": []
    },
    {
      "cell_type": "code",
      "source": [
        "LR_RMSE = RMSE(y_test, train_pred_LR)\n",
        "RID_RMSE = RMSE(y_test, train_pred_RID)\n",
        "LA_RMSE = RMSE(y_test, train_pred_LA)\n",
        "RF_RMSE = RMSE(y_test, train_pred_RF)\n",
        "LGBM_RMSE = RMSE(y_test, train_pred_LGBM)\n",
        "XGB_RMSE = RMSE(y_test, train_pred_XGB)"
      ],
      "metadata": {
        "id": "i4SNHFIKr7tu"
      },
      "execution_count": 40,
      "outputs": []
    },
    {
      "cell_type": "code",
      "source": [
        "print(f\"LinearRegression의 RMSE는 {LR_RMSE}\")\n",
        "print(f\"Ridge의 RMSE는 {RID_RMSE}\")\n",
        "print(f\"Lasso의 RMSE는 {LA_RMSE}\")\n",
        "print(f\"RandomForestRegressor의 RMSE는 {RF_RMSE}\")\n",
        "print(f\"LGBMRegressor의 RMSE는 {LGBM_RMSE}\")\n",
        "print(f\"XGBRegressor의 RMSE는 {XGB_RMSE}\")"
      ],
      "metadata": {
        "colab": {
          "base_uri": "https://localhost:8080/"
        },
        "id": "ETp4JjSkqlic",
        "outputId": "fa9982e7-13da-46c3-e92a-529283f4d800"
      },
      "execution_count": 41,
      "outputs": [
        {
          "output_type": "stream",
          "name": "stdout",
          "text": [
            "LinearRegression의 RMSE는 262.0920954293933\n",
            "Ridge의 RMSE는 266.0611240179336\n",
            "Lasso의 RMSE는 264.1135616532076\n",
            "RandomForestRegressor의 RMSE는 123.2848065193701\n",
            "LGBMRegressor의 RMSE는 207.04874516481806\n",
            "XGBRegressor의 RMSE는 212.25846161142474\n"
          ]
        }
      ]
    },
    {
      "cell_type": "code",
      "source": [
        "# 앙상블 모형 최종 RMSE\n",
        "print(f\"앙상블 모형 최종 RMSE는 {(LR_RMSE+RID_RMSE+LA_RMSE+RF_RMSE+LGBM_RMSE+XGB_RMSE)/6}\")"
      ],
      "metadata": {
        "colab": {
          "base_uri": "https://localhost:8080/"
        },
        "id": "TxdAw4yCr0qU",
        "outputId": "e4622eb5-cbae-4037-fead-b6d4d8c3eac3"
      },
      "execution_count": 42,
      "outputs": [
        {
          "output_type": "stream",
          "name": "stdout",
          "text": [
            "앙상블 모형 최종 RMSE는 222.47646573269125\n"
          ]
        }
      ]
    },
    {
      "cell_type": "markdown",
      "source": [
        "test 예측하기"
      ],
      "metadata": {
        "id": "zS5JrpIQqXvd"
      }
    },
    {
      "cell_type": "code",
      "source": [
        "model_LR = LinearRegression().fit(X, Y)\n",
        "model_RID = Ridge().fit(X,Y)\n",
        "model_LA = Lasso().fit(X,Y)\n",
        "model_RF = RandomForestRegressor().fit(X,Y)\n",
        "model_LGBM = LGBMRegressor().fit(X,Y)\n",
        "model_XGB = XGBRegressor().fit(X,Y)\n"
      ],
      "metadata": {
        "colab": {
          "base_uri": "https://localhost:8080/"
        },
        "id": "XV-4VcBGlHjv",
        "outputId": "c582e140-a8bf-4d3c-f2d7-fa4b1076574e"
      },
      "execution_count": 22,
      "outputs": [
        {
          "output_type": "stream",
          "name": "stdout",
          "text": [
            "[15:23:40] WARNING: /workspace/src/objective/regression_obj.cu:152: reg:linear is now deprecated in favor of reg:squarederror.\n"
          ]
        }
      ]
    },
    {
      "cell_type": "code",
      "source": [
        "test = test.drop(['body_mass_g'], axis=1)\n",
        "test"
      ],
      "metadata": {
        "colab": {
          "base_uri": "https://localhost:8080/",
          "height": 488
        },
        "id": "9IY1OwrQjWrq",
        "outputId": "183c5484-2cca-4ec1-9b4a-8672ba19be4b"
      },
      "execution_count": 24,
      "outputs": [
        {
          "output_type": "execute_result",
          "data": {
            "text/html": [
              "\n",
              "  <div id=\"df-072c8ab6-4b45-498e-a366-3d36e4553ee9\">\n",
              "    <div class=\"colab-df-container\">\n",
              "      <div>\n",
              "<style scoped>\n",
              "    .dataframe tbody tr th:only-of-type {\n",
              "        vertical-align: middle;\n",
              "    }\n",
              "\n",
              "    .dataframe tbody tr th {\n",
              "        vertical-align: top;\n",
              "    }\n",
              "\n",
              "    .dataframe thead th {\n",
              "        text-align: right;\n",
              "    }\n",
              "</style>\n",
              "<table border=\"1\" class=\"dataframe\">\n",
              "  <thead>\n",
              "    <tr style=\"text-align: right;\">\n",
              "      <th></th>\n",
              "      <th>bill_length_mm</th>\n",
              "      <th>bill_depth_mm</th>\n",
              "      <th>flipper_length_mm</th>\n",
              "      <th>species_Adelie</th>\n",
              "      <th>species_Chinstrap</th>\n",
              "      <th>species_Gentoo</th>\n",
              "      <th>island_Biscoe</th>\n",
              "      <th>island_Dream</th>\n",
              "      <th>island_Torgersen</th>\n",
              "      <th>sex_Female</th>\n",
              "      <th>sex_Male</th>\n",
              "    </tr>\n",
              "  </thead>\n",
              "  <tbody>\n",
              "    <tr>\n",
              "      <th>273</th>\n",
              "      <td>46.0</td>\n",
              "      <td>18.9</td>\n",
              "      <td>195</td>\n",
              "      <td>0</td>\n",
              "      <td>1</td>\n",
              "      <td>0</td>\n",
              "      <td>0</td>\n",
              "      <td>1</td>\n",
              "      <td>0</td>\n",
              "      <td>1</td>\n",
              "      <td>0</td>\n",
              "    </tr>\n",
              "    <tr>\n",
              "      <th>3</th>\n",
              "      <td>36.7</td>\n",
              "      <td>19.3</td>\n",
              "      <td>193</td>\n",
              "      <td>1</td>\n",
              "      <td>0</td>\n",
              "      <td>0</td>\n",
              "      <td>0</td>\n",
              "      <td>0</td>\n",
              "      <td>1</td>\n",
              "      <td>1</td>\n",
              "      <td>0</td>\n",
              "    </tr>\n",
              "    <tr>\n",
              "      <th>329</th>\n",
              "      <td>43.5</td>\n",
              "      <td>18.1</td>\n",
              "      <td>202</td>\n",
              "      <td>0</td>\n",
              "      <td>1</td>\n",
              "      <td>0</td>\n",
              "      <td>0</td>\n",
              "      <td>1</td>\n",
              "      <td>0</td>\n",
              "      <td>1</td>\n",
              "      <td>0</td>\n",
              "    </tr>\n",
              "    <tr>\n",
              "      <th>292</th>\n",
              "      <td>49.5</td>\n",
              "      <td>19.0</td>\n",
              "      <td>200</td>\n",
              "      <td>0</td>\n",
              "      <td>1</td>\n",
              "      <td>0</td>\n",
              "      <td>0</td>\n",
              "      <td>1</td>\n",
              "      <td>0</td>\n",
              "      <td>0</td>\n",
              "      <td>1</td>\n",
              "    </tr>\n",
              "    <tr>\n",
              "      <th>150</th>\n",
              "      <td>47.6</td>\n",
              "      <td>14.5</td>\n",
              "      <td>215</td>\n",
              "      <td>0</td>\n",
              "      <td>0</td>\n",
              "      <td>1</td>\n",
              "      <td>1</td>\n",
              "      <td>0</td>\n",
              "      <td>0</td>\n",
              "      <td>0</td>\n",
              "      <td>1</td>\n",
              "    </tr>\n",
              "    <tr>\n",
              "      <th>...</th>\n",
              "      <td>...</td>\n",
              "      <td>...</td>\n",
              "      <td>...</td>\n",
              "      <td>...</td>\n",
              "      <td>...</td>\n",
              "      <td>...</td>\n",
              "      <td>...</td>\n",
              "      <td>...</td>\n",
              "      <td>...</td>\n",
              "      <td>...</td>\n",
              "      <td>...</td>\n",
              "    </tr>\n",
              "    <tr>\n",
              "      <th>54</th>\n",
              "      <td>35.7</td>\n",
              "      <td>16.9</td>\n",
              "      <td>185</td>\n",
              "      <td>1</td>\n",
              "      <td>0</td>\n",
              "      <td>0</td>\n",
              "      <td>1</td>\n",
              "      <td>0</td>\n",
              "      <td>0</td>\n",
              "      <td>1</td>\n",
              "      <td>0</td>\n",
              "    </tr>\n",
              "    <tr>\n",
              "      <th>101</th>\n",
              "      <td>38.2</td>\n",
              "      <td>20.0</td>\n",
              "      <td>190</td>\n",
              "      <td>1</td>\n",
              "      <td>0</td>\n",
              "      <td>0</td>\n",
              "      <td>1</td>\n",
              "      <td>0</td>\n",
              "      <td>0</td>\n",
              "      <td>0</td>\n",
              "      <td>1</td>\n",
              "    </tr>\n",
              "    <tr>\n",
              "      <th>291</th>\n",
              "      <td>50.5</td>\n",
              "      <td>18.4</td>\n",
              "      <td>200</td>\n",
              "      <td>0</td>\n",
              "      <td>1</td>\n",
              "      <td>0</td>\n",
              "      <td>0</td>\n",
              "      <td>1</td>\n",
              "      <td>0</td>\n",
              "      <td>1</td>\n",
              "      <td>0</td>\n",
              "    </tr>\n",
              "    <tr>\n",
              "      <th>205</th>\n",
              "      <td>45.3</td>\n",
              "      <td>13.8</td>\n",
              "      <td>208</td>\n",
              "      <td>0</td>\n",
              "      <td>0</td>\n",
              "      <td>1</td>\n",
              "      <td>1</td>\n",
              "      <td>0</td>\n",
              "      <td>0</td>\n",
              "      <td>1</td>\n",
              "      <td>0</td>\n",
              "    </tr>\n",
              "    <tr>\n",
              "      <th>36</th>\n",
              "      <td>40.8</td>\n",
              "      <td>18.4</td>\n",
              "      <td>195</td>\n",
              "      <td>1</td>\n",
              "      <td>0</td>\n",
              "      <td>0</td>\n",
              "      <td>0</td>\n",
              "      <td>1</td>\n",
              "      <td>0</td>\n",
              "      <td>0</td>\n",
              "      <td>1</td>\n",
              "    </tr>\n",
              "  </tbody>\n",
              "</table>\n",
              "<p>67 rows × 11 columns</p>\n",
              "</div>\n",
              "      <button class=\"colab-df-convert\" onclick=\"convertToInteractive('df-072c8ab6-4b45-498e-a366-3d36e4553ee9')\"\n",
              "              title=\"Convert this dataframe to an interactive table.\"\n",
              "              style=\"display:none;\">\n",
              "        \n",
              "  <svg xmlns=\"http://www.w3.org/2000/svg\" height=\"24px\"viewBox=\"0 0 24 24\"\n",
              "       width=\"24px\">\n",
              "    <path d=\"M0 0h24v24H0V0z\" fill=\"none\"/>\n",
              "    <path d=\"M18.56 5.44l.94 2.06.94-2.06 2.06-.94-2.06-.94-.94-2.06-.94 2.06-2.06.94zm-11 1L8.5 8.5l.94-2.06 2.06-.94-2.06-.94L8.5 2.5l-.94 2.06-2.06.94zm10 10l.94 2.06.94-2.06 2.06-.94-2.06-.94-.94-2.06-.94 2.06-2.06.94z\"/><path d=\"M17.41 7.96l-1.37-1.37c-.4-.4-.92-.59-1.43-.59-.52 0-1.04.2-1.43.59L10.3 9.45l-7.72 7.72c-.78.78-.78 2.05 0 2.83L4 21.41c.39.39.9.59 1.41.59.51 0 1.02-.2 1.41-.59l7.78-7.78 2.81-2.81c.8-.78.8-2.07 0-2.86zM5.41 20L4 18.59l7.72-7.72 1.47 1.35L5.41 20z\"/>\n",
              "  </svg>\n",
              "      </button>\n",
              "      \n",
              "  <style>\n",
              "    .colab-df-container {\n",
              "      display:flex;\n",
              "      flex-wrap:wrap;\n",
              "      gap: 12px;\n",
              "    }\n",
              "\n",
              "    .colab-df-convert {\n",
              "      background-color: #E8F0FE;\n",
              "      border: none;\n",
              "      border-radius: 50%;\n",
              "      cursor: pointer;\n",
              "      display: none;\n",
              "      fill: #1967D2;\n",
              "      height: 32px;\n",
              "      padding: 0 0 0 0;\n",
              "      width: 32px;\n",
              "    }\n",
              "\n",
              "    .colab-df-convert:hover {\n",
              "      background-color: #E2EBFA;\n",
              "      box-shadow: 0px 1px 2px rgba(60, 64, 67, 0.3), 0px 1px 3px 1px rgba(60, 64, 67, 0.15);\n",
              "      fill: #174EA6;\n",
              "    }\n",
              "\n",
              "    [theme=dark] .colab-df-convert {\n",
              "      background-color: #3B4455;\n",
              "      fill: #D2E3FC;\n",
              "    }\n",
              "\n",
              "    [theme=dark] .colab-df-convert:hover {\n",
              "      background-color: #434B5C;\n",
              "      box-shadow: 0px 1px 3px 1px rgba(0, 0, 0, 0.15);\n",
              "      filter: drop-shadow(0px 1px 2px rgba(0, 0, 0, 0.3));\n",
              "      fill: #FFFFFF;\n",
              "    }\n",
              "  </style>\n",
              "\n",
              "      <script>\n",
              "        const buttonEl =\n",
              "          document.querySelector('#df-072c8ab6-4b45-498e-a366-3d36e4553ee9 button.colab-df-convert');\n",
              "        buttonEl.style.display =\n",
              "          google.colab.kernel.accessAllowed ? 'block' : 'none';\n",
              "\n",
              "        async function convertToInteractive(key) {\n",
              "          const element = document.querySelector('#df-072c8ab6-4b45-498e-a366-3d36e4553ee9');\n",
              "          const dataTable =\n",
              "            await google.colab.kernel.invokeFunction('convertToInteractive',\n",
              "                                                     [key], {});\n",
              "          if (!dataTable) return;\n",
              "\n",
              "          const docLinkHtml = 'Like what you see? Visit the ' +\n",
              "            '<a target=\"_blank\" href=https://colab.research.google.com/notebooks/data_table.ipynb>data table notebook</a>'\n",
              "            + ' to learn more about interactive tables.';\n",
              "          element.innerHTML = '';\n",
              "          dataTable['output_type'] = 'display_data';\n",
              "          await google.colab.output.renderOutput(dataTable, element);\n",
              "          const docLink = document.createElement('div');\n",
              "          docLink.innerHTML = docLinkHtml;\n",
              "          element.appendChild(docLink);\n",
              "        }\n",
              "      </script>\n",
              "    </div>\n",
              "  </div>\n",
              "  "
            ],
            "text/plain": [
              "     bill_length_mm  bill_depth_mm  ...  sex_Female  sex_Male\n",
              "273            46.0           18.9  ...           1         0\n",
              "3              36.7           19.3  ...           1         0\n",
              "329            43.5           18.1  ...           1         0\n",
              "292            49.5           19.0  ...           0         1\n",
              "150            47.6           14.5  ...           0         1\n",
              "..              ...            ...  ...         ...       ...\n",
              "54             35.7           16.9  ...           1         0\n",
              "101            38.2           20.0  ...           0         1\n",
              "291            50.5           18.4  ...           1         0\n",
              "205            45.3           13.8  ...           1         0\n",
              "36             40.8           18.4  ...           0         1\n",
              "\n",
              "[67 rows x 11 columns]"
            ]
          },
          "metadata": {},
          "execution_count": 24
        }
      ]
    },
    {
      "cell_type": "markdown",
      "source": [
        "적당한 비율로 곱한 후 모두 더함으로써 모델 앙상블을 진행하였습니다."
      ],
      "metadata": {
        "id": "hCY8XoV6nlIc"
      }
    },
    {
      "cell_type": "code",
      "source": [
        "# 앙상블 진행\n",
        "\n",
        "pred_LR = model_LR.predict(test)\n",
        "pred_RID = model_RID.predict(test)\n",
        "pred_LA = model_LA.predict(test)\n",
        "pred_RF = model_RF.predict(test)\n",
        "pred_LGBM = model_LGBM.predict(test)\n",
        "pred_XGB = model_XGB.predict(test)\n",
        "\n",
        "pred = pred_LR*0.167 + pred_RID*0.167 + pred_LA * 0.167 + pred_RF * 0.166 + pred_LGBM * 0.166 + pred_XGB*0.167\n",
        "pred"
      ],
      "metadata": {
        "colab": {
          "base_uri": "https://localhost:8080/"
        },
        "id": "nM8-OJdAkgHZ",
        "outputId": "a2f12354-8121-43c1-95d7-3c9c3ad1b16d"
      },
      "execution_count": 30,
      "outputs": [
        {
          "output_type": "execute_result",
          "data": {
            "text/plain": [
              "array([3550.77544089, 3573.69210829, 3589.91494139, 4009.45216317,\n",
              "       5328.53947421, 4726.108756  , 4350.76213521, 3806.54848561,\n",
              "       4146.40078016, 3209.11399182, 3271.86979356, 5403.44353261,\n",
              "       5324.08471985, 4642.17161669, 3326.23441351, 3775.7554837 ,\n",
              "       3412.60140346, 3407.97486173, 4129.96260243, 3843.7277138 ,\n",
              "       4807.52005817, 3289.06774863, 3493.34302323, 4484.95966896,\n",
              "       3493.61977882, 3890.47014136, 3976.65873375, 5410.57295293,\n",
              "       5169.12659916, 4155.9970733 , 5651.05717877, 3546.25996625,\n",
              "       4069.76924223, 4478.66355103, 4041.95019466, 4574.13533341,\n",
              "       4841.88294771, 3895.4664555 , 4817.06224137, 3499.22844426,\n",
              "       3921.51473442, 3405.99598848, 5552.25650167, 3929.99413895,\n",
              "       5379.36896165, 3463.44085845, 3402.42407413, 3384.69552562,\n",
              "       3255.11102462, 3194.6419515 , 5270.86656048, 5269.04848841,\n",
              "       4488.84039729, 4830.84785429, 3886.22116908, 5660.28225169,\n",
              "       5340.0719137 , 3333.38690341, 4761.12410097, 4662.79598903,\n",
              "       4701.14574164, 4249.16259117, 3232.51985772, 4066.49207228,\n",
              "       3651.69625802, 4482.2254526 , 4122.42542622])"
            ]
          },
          "metadata": {},
          "execution_count": 30
        }
      ]
    },
    {
      "cell_type": "markdown",
      "source": [
        "다른 방식"
      ],
      "metadata": {
        "id": "kyeISazCoxT8"
      }
    },
    {
      "cell_type": "code",
      "source": [
        "pred = (pred_LR + pred_RID + pred_LA + pred_RF + pred_LGBM + pred_XGB)/6\n",
        "pred"
      ],
      "metadata": {
        "colab": {
          "base_uri": "https://localhost:8080/"
        },
        "id": "dRQgWQKTnC3l",
        "outputId": "5bf9f34a-9241-4c8d-b0af-62580d2fa554"
      },
      "execution_count": 32,
      "outputs": [
        {
          "output_type": "execute_result",
          "data": {
            "text/plain": [
              "array([3550.84267919, 3573.7328282 , 3590.07151266, 4009.32400939,\n",
              "       5328.83591394, 4726.07606775, 4350.90968813, 3806.41738659,\n",
              "       4146.39315476, 3209.17905405, 3271.7124831 , 5403.54123014,\n",
              "       5324.00296902, 4642.05938688, 3326.30849203, 3775.51487   ,\n",
              "       3412.73132314, 3407.84316221, 4129.88031069, 3843.80816746,\n",
              "       4807.55086008, 3289.06067317, 3493.2827371 , 4484.84615053,\n",
              "       3493.5193384 , 3890.68819497, 3976.52471173, 5410.45727042,\n",
              "       5169.32782406, 4156.12860985, 5651.02487025, 3546.31192291,\n",
              "       4069.84989796, 4478.48676499, 4041.81190295, 4573.99106761,\n",
              "       4842.01538632, 3895.63162163, 4817.08471094, 3499.30092777,\n",
              "       3921.65213709, 3405.80359045, 5552.44834836, 3929.5887133 ,\n",
              "       5379.34845792, 3463.32723909, 3402.28180611, 3384.95775114,\n",
              "       3254.96245165, 3194.45905728, 5270.73438773, 5268.79983898,\n",
              "       4488.65826825, 4830.9069047 , 3886.3227889 , 5660.25633292,\n",
              "       5339.94301994, 3333.33516561, 4761.1010034 , 4662.73391332,\n",
              "       4701.20955408, 4249.17593852, 3232.34017307, 4066.57934505,\n",
              "       3651.79581453, 4481.96448951, 4122.62543578])"
            ]
          },
          "metadata": {},
          "execution_count": 32
        }
      ]
    },
    {
      "cell_type": "markdown",
      "source": [
        "## Reference\n",
        "1. https://sjkoding.tistory.com/7\n",
        "2. https://www.kaggle.com/resulcaliskan/penguins"
      ],
      "metadata": {
        "id": "MLbk-XINsvtN"
      }
    }
  ]
}